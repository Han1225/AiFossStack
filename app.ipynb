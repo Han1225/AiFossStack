{
 "cells": [
  {
   "cell_type": "code",
   "execution_count": 81,
   "id": "3a3f74d4",
   "metadata": {},
   "outputs": [],
   "source": [
    "## Target implement RAG\n",
    "# 1) chunking docs\n",
    "# 2) persistent embeddings\n",
    "# 3) query vector store\n",
    "# 4) compose a response based on documents"
   ]
  },
  {
   "cell_type": "code",
   "execution_count": 82,
   "id": "d8d4ac1a-c40e-41d6-9574-16a89226d005",
   "metadata": {},
   "outputs": [],
   "source": [
    "from langchain.llms import Ollama\n",
    "from langchain.callbacks.manager import CallbackManager\n",
    "from langchain.callbacks.streaming_stdout import StreamingStdOutCallbackHandler"
   ]
  },
  {
   "cell_type": "code",
   "execution_count": 83,
   "id": "1fe46651-707d-46d0-bcbe-b99cee210b6d",
   "metadata": {
    "slideshow": {
     "slide_type": ""
    },
    "tags": []
   },
   "outputs": [],
   "source": [
    "base_url=\"http://localhost:11434\"\n",
    "model=\"zephyr\"  #orca-mini , mistral, or zephyr\n",
    "\n",
    "llm = Ollama(base_url=base_url, model=model, \n",
    "callback_manager=CallbackManager([StreamingStdOutCallbackHandler()])\n",
    ")"
   ]
  },
  {
   "cell_type": "code",
   "execution_count": 84,
   "id": "2fed7367-2905-4b5c-af6c-c28575bd076f",
   "metadata": {
    "slideshow": {
     "slide_type": ""
    },
    "tags": []
   },
   "outputs": [
    {
     "name": "stdout",
     "output_type": "stream",
     "text": [
      "Dear participants,\n",
      "\n",
      "We are thrilled to welcome Dr. Adler Archer, Managing Director of the Inclusive Innovation Initiative (i3) and former Director of the Office of Strategy Management at the Whiting School of Engineering, Johns Hopkins University, as our featured speaker for tonight's TechNovation Talk: Supercharging Innovation Acceleration.\n",
      "\n",
      "This event is part of a collaborative effort between the United Nations Office of Information and Communications Technology (OICT), the OICT Open Source Team, and the DMSPC/BTAD Innovation Accelerator, aimed at enhancing innovation within the UN system. Our TechNovation Talks are designed to provide learning and networking opportunities for UN personnel to acquire essential skills necessary for building the UN 2.0.\n",
      "\n",
      "Dr. Archer brings a wealth of experience in driving innovation, particularly in the realm of inclusive innovation. His work with i3 has focused on creating social and economic value through innovation while simultaneously addressing global challenges, such as poverty alleviation and environmental sustainability. In his role at Johns Hopkins University, he led the Office of Strategy Management, where he developed a strategic planning process that emphasized data-driven decision making, stakeholder engagement, and results measurement.\n",
      "\n",
      "As we embark on our conversation tonight, Dr. Archer will share insights into his experience in inclusive innovation, as well as his perspectives on how to best foster and scale innovations within the UN system. He will also provide examples of successful innovation initiatives from both the private and public sectors.\n",
      "\n",
      "We encourage all participants to engage in a Q&A session with Dr. Archer at the end of his presentation. This is an opportunity to ask questions, share your experiences, and learn from each other's insights.\n",
      "\n",
      "We hope that tonight's TechNovation Talk will provide you with valuable takeaways and inspiration to continue innovating within your respective fields. Let us embark on this journey together and make a positive impact through innovation. Thank you for joining us, and we look forward to an insightful evening!"
     ]
    },
    {
     "data": {
      "text/plain": [
       "\"Dear participants,\\n\\nWe are thrilled to welcome Dr. Adler Archer, Managing Director of the Inclusive Innovation Initiative (i3) and former Director of the Office of Strategy Management at the Whiting School of Engineering, Johns Hopkins University, as our featured speaker for tonight's TechNovation Talk: Supercharging Innovation Acceleration.\\n\\nThis event is part of a collaborative effort between the United Nations Office of Information and Communications Technology (OICT), the OICT Open Source Team, and the DMSPC/BTAD Innovation Accelerator, aimed at enhancing innovation within the UN system. Our TechNovation Talks are designed to provide learning and networking opportunities for UN personnel to acquire essential skills necessary for building the UN 2.0.\\n\\nDr. Archer brings a wealth of experience in driving innovation, particularly in the realm of inclusive innovation. His work with i3 has focused on creating social and economic value through innovation while simultaneously addressing global challenges, such as poverty alleviation and environmental sustainability. In his role at Johns Hopkins University, he led the Office of Strategy Management, where he developed a strategic planning process that emphasized data-driven decision making, stakeholder engagement, and results measurement.\\n\\nAs we embark on our conversation tonight, Dr. Archer will share insights into his experience in inclusive innovation, as well as his perspectives on how to best foster and scale innovations within the UN system. He will also provide examples of successful innovation initiatives from both the private and public sectors.\\n\\nWe encourage all participants to engage in a Q&A session with Dr. Archer at the end of his presentation. This is an opportunity to ask questions, share your experiences, and learn from each other's insights.\\n\\nWe hope that tonight's TechNovation Talk will provide you with valuable takeaways and inspiration to continue innovating within your respective fields. Let us embark on this journey together and make a positive impact through innovation. Thank you for joining us, and we look forward to an insightful evening!\""
      ]
     },
     "execution_count": 84,
     "metadata": {},
     "output_type": "execute_result"
    }
   ],
   "source": [
    "#llm(\"Hola!\")\n",
    "llm(\"Draft welcome talking points for the 'TechNovation Talk: Supercharging Innovation Acceleratio' with Featured Speaker Dr. Adler Archer: Managing Director, Inclusive Innovation Initiative (i3), and former Director of the Office of Strategy Management at the Whiting School of Engineering, Johns Hopkins University. This event is the first of a series organized in collaboration with Johns hopkins University and UN-OICT. This event is put together through a collaboration of the OICT Innovation Unit, the OICT Open Source Team and the DMSPC/BTAD Innovation Accelerator.  The TechNovation Talks are a series of learning and networking opportunities that bring together external experts and UN personnel to acquire skills essential for building the UN 2.0.\")"
   ]
  },
  {
   "cell_type": "code",
   "execution_count": 85,
   "metadata": {},
   "outputs": [
    {
     "name": "stderr",
     "output_type": "stream",
     "text": [
      "Invalid dictionary construct: [/'CS', <PDFObjRef:6926>, /'I', False, /'K', /b'fals', /b'e', /'S', /'Transparency', /'Type', /'Group']\n",
      "Traceback (most recent call last):\n",
      "  File \"/Users/jmn/repos/AiFossStack/.venvlangllama/lib/python3.11/site-packages/unstructured/partition/pdf.py\", line 251, in partition_pdf_or_image\n",
      "    extracted_elements = extractable_elements(\n",
      "                         ^^^^^^^^^^^^^^^^^^^^^\n",
      "  File \"/Users/jmn/repos/AiFossStack/.venvlangllama/lib/python3.11/site-packages/unstructured/partition/pdf.py\", line 196, in extractable_elements\n",
      "    return _partition_pdf_with_pdfminer(\n",
      "           ^^^^^^^^^^^^^^^^^^^^^^^^^^^^^\n",
      "  File \"/Users/jmn/repos/AiFossStack/.venvlangllama/lib/python3.11/site-packages/unstructured/utils.py\", line 214, in wrapper\n",
      "    return func(*args, **kwargs)\n",
      "           ^^^^^^^^^^^^^^^^^^^^^\n",
      "  File \"/Users/jmn/repos/AiFossStack/.venvlangllama/lib/python3.11/site-packages/unstructured/partition/pdf.py\", line 489, in _partition_pdf_with_pdfminer\n",
      "    elements = _process_pdfminer_pages(\n",
      "               ^^^^^^^^^^^^^^^^^^^^^^^^\n",
      "  File \"/Users/jmn/repos/AiFossStack/.venvlangllama/lib/python3.11/site-packages/unstructured/partition/pdf.py\", line 562, in _process_pdfminer_pages\n",
      "    interpreter.process_page(page)\n",
      "  File \"/Users/jmn/repos/AiFossStack/.venvlangllama/lib/python3.11/site-packages/pdfminer/pdfinterp.py\", line 997, in process_page\n",
      "    self.render_contents(page.resources, page.contents, ctm=ctm)\n",
      "  File \"/Users/jmn/repos/AiFossStack/.venvlangllama/lib/python3.11/site-packages/pdfminer/pdfinterp.py\", line 1016, in render_contents\n",
      "    self.execute(list_value(streams))\n",
      "  File \"/Users/jmn/repos/AiFossStack/.venvlangllama/lib/python3.11/site-packages/pdfminer/pdfinterp.py\", line 1042, in execute\n",
      "    func(*args)\n",
      "  File \"/Users/jmn/repos/AiFossStack/.venvlangllama/lib/python3.11/site-packages/pdfminer/pdfinterp.py\", line 972, in do_Do\n",
      "    interpreter.render_contents(\n",
      "  File \"/Users/jmn/repos/AiFossStack/.venvlangllama/lib/python3.11/site-packages/pdfminer/pdfinterp.py\", line 1014, in render_contents\n",
      "    self.init_resources(resources)\n",
      "  File \"/Users/jmn/repos/AiFossStack/.venvlangllama/lib/python3.11/site-packages/unstructured/partition/pdf.py\", line 541, in pdfminer_interpreter_init_resources\n",
      "    return wrapped(resources)\n",
      "           ^^^^^^^^^^^^^^^^^^\n",
      "  File \"/Users/jmn/repos/AiFossStack/.venvlangllama/lib/python3.11/site-packages/pdfminer/pdfinterp.py\", line 383, in init_resources\n",
      "    spec = dict_value(spec)\n",
      "           ^^^^^^^^^^^^^^^^\n",
      "  File \"/Users/jmn/repos/AiFossStack/.venvlangllama/lib/python3.11/site-packages/pdfminer/pdftypes.py\", line 207, in dict_value\n",
      "    x = resolve1(x)\n",
      "        ^^^^^^^^^^^\n",
      "  File \"/Users/jmn/repos/AiFossStack/.venvlangllama/lib/python3.11/site-packages/pdfminer/pdftypes.py\", line 118, in resolve1\n",
      "    x = x.resolve(default=default)\n",
      "        ^^^^^^^^^^^^^^^^^^^^^^^^^^\n",
      "  File \"/Users/jmn/repos/AiFossStack/.venvlangllama/lib/python3.11/site-packages/pdfminer/pdftypes.py\", line 106, in resolve\n",
      "    return self.doc.getobj(self.objid)\n",
      "           ^^^^^^^^^^^^^^^^^^^^^^^^^^^\n",
      "  File \"/Users/jmn/repos/AiFossStack/.venvlangllama/lib/python3.11/site-packages/pdfminer/pdfdocument.py\", line 864, in getobj\n",
      "    obj = self._getobj_objstm(stream, index, objid)\n",
      "          ^^^^^^^^^^^^^^^^^^^^^^^^^^^^^^^^^^^^^^^^^\n",
      "  File \"/Users/jmn/repos/AiFossStack/.venvlangllama/lib/python3.11/site-packages/pdfminer/pdfdocument.py\", line 784, in _getobj_objstm\n",
      "    (objs, n) = self._get_objects(stream)\n",
      "                ^^^^^^^^^^^^^^^^^^^^^^^^^\n",
      "  File \"/Users/jmn/repos/AiFossStack/.venvlangllama/lib/python3.11/site-packages/pdfminer/pdfdocument.py\", line 810, in _get_objects\n",
      "    (_, obj) = parser.nextobject()\n",
      "               ^^^^^^^^^^^^^^^^^^^\n",
      "  File \"/Users/jmn/repos/AiFossStack/.venvlangllama/lib/python3.11/site-packages/pdfminer/psparser.py\", line 632, in nextobject\n",
      "    raise PSSyntaxError(error_msg)\n",
      "pdfminer.psparser.PSSyntaxError: Invalid dictionary construct: [/'CS', <PDFObjRef:6926>, /'I', False, /'K', /b'fals', /b'e', /'S', /'Transparency', /'Type', /'Group']\n",
      "PDF text extraction failed, skip text extraction...\n"
     ]
    },
    {
     "data": {
      "text/plain": [
       "7"
      ]
     },
     "execution_count": 85,
     "metadata": {},
     "output_type": "execute_result"
    }
   ],
   "source": [
    "#Directory loader, including text, pdf\n",
    "from langchain.document_loaders import DirectoryLoader\n",
    "input_dir = \"./data_big/\"\n",
    "data = DirectoryLoader(input_dir , use_multithreading=True).load()\n",
    "len(data)"
   ]
  },
  {
   "cell_type": "code",
   "execution_count": 86,
   "metadata": {},
   "outputs": [
    {
     "data": {
      "text/plain": [
       "2367"
      ]
     },
     "execution_count": 86,
     "metadata": {},
     "output_type": "execute_result"
    }
   ],
   "source": [
    "# split it into chunks\n",
    "from langchain.text_splitter import RecursiveCharacterTextSplitter\n",
    "text_splitter = RecursiveCharacterTextSplitter(chunk_size=1000, chunk_overlap=200)\n",
    "all_splits = text_splitter.split_documents(data)\n",
    "len(all_splits)"
   ]
  },
  {
   "cell_type": "code",
   "execution_count": 87,
   "metadata": {},
   "outputs": [
    {
     "name": "stdout",
     "output_type": "stream",
     "text": [
      "bert_load_from_file: gguf version     = 2\n",
      "bert_load_from_file: gguf alignment   = 32\n",
      "bert_load_from_file: gguf data offset = 695552\n",
      "bert_load_from_file: model name           = BERT\n",
      "bert_load_from_file: model architecture   = bert\n",
      "bert_load_from_file: model file type      = 1\n",
      "bert_load_from_file: bert tokenizer vocab = 30522\n"
     ]
    }
   ],
   "source": [
    "#Vectorize & store\n",
    "from langchain.embeddings import GPT4AllEmbeddings\n",
    "from langchain.vectorstores import Chroma\n",
    "index_name = \"undocs\"\n",
    "vectorstore = Chroma.from_documents(documents=all_splits, embedding=GPT4AllEmbeddings(), persist_directory=\"./indexes/\" + index_name)"
   ]
  },
  {
   "cell_type": "code",
   "execution_count": 101,
   "metadata": {},
   "outputs": [
    {
     "name": "stdout",
     "output_type": "stream",
     "text": [
      "bert_load_from_file: gguf version     = 2\n",
      "bert_load_from_file: gguf alignment   = 32\n",
      "bert_load_from_file: gguf data offset = 695552\n",
      "bert_load_from_file: model name           = BERT\n",
      "bert_load_from_file: model architecture   = bert\n",
      "bert_load_from_file: model file type      = 1\n",
      "bert_load_from_file: bert tokenizer vocab = 30522\n",
      "Rows: 4734\n"
     ]
    }
   ],
   "source": [
    "# load chromadb vectorstore from disk <-works\n",
    "index_name = \"undocs\"\n",
    "db2 = Chroma(persist_directory=\"./indexes/\" + index_name , embedding_function=GPT4AllEmbeddings())\n",
    "print(\"Rows:\", db2._collection.count())"
   ]
  },
  {
   "cell_type": "code",
   "execution_count": 98,
   "metadata": {},
   "outputs": [
    {
     "name": "stdout",
     "output_type": "stream",
     "text": [
      "bert_load_from_file: gguf version     = 2\n",
      "bert_load_from_file: gguf alignment   = 32\n",
      "bert_load_from_file: gguf data offset = 695552\n",
      "bert_load_from_file: model name           = BERT\n",
      "bert_load_from_file: model architecture   = bert\n",
      "bert_load_from_file: model file type      = 1\n",
      "bert_load_from_file: bert tokenizer vocab = 30522\n"
     ]
    },
    {
     "data": {
      "text/plain": [
       "[Document(page_content='measures, national and international, to secure their universal and effective recognition and observance, both among the peoples of Member States themselves and among the peoples of territories under their jurisdiction.', metadata={'source': 'data/Universal Declaration of Human Right.txt'}),\n",
       " Document(page_content='women and have determined to promote social progress and better standards of life in larger freedom, Whereas Member States have pledged themselves to achieve, in co‐operation with the United Nations, the promotion of universal respect for and observance of human rights and fundamental freedoms, Whereas a common understanding of these rights and freedoms is of the greatest importance for the full realization of this pledge, Now, therefore, The General Assembly Proclaims this Universal Declaration of Human Rights as a common standard of achievement for all peoples and all nations, to the end that every individual and every organ of society, keeping this Declaration constantly in mind, shall strive by teaching and education to promote respect for these rights and freedoms and by progressive measures, national and international, to secure their universal and effective recognition and observance, both among the peoples of Member States themselves and among the peoples of territories under', metadata={'source': 'data/Universal Declaration of Human Right.txt'}),\n",
       " Document(page_content='Article 15\\n\\nEveryone has the right to a nationality.\\n\\nNo one shall be arbitrarily deprived of his nationality nor denied the right to change his nationality.\\n\\nArticle 16\\n\\nMen and women of full age, without any limitation due to race, nationality or religion, have the right to marry and to found a family. They are entitled to equal rights as to marriage, during marriage and at its dissolution.\\n\\nMarriage shall be entered into only with the free and full consent of the intending spouses.\\n\\nThe family is the natural and fundamental group unit of society and is entitled to protection by society and the State.\\n\\nArticle 17\\n\\nEveryone has the right to own property alone as well as in association with others.\\n\\nNo one shall be arbitrarily deprived of his property.', metadata={'source': 'data/Universal Declaration of Human Right.txt'}),\n",
       " Document(page_content='Article 12 No one shall be subjected to arbitrary interference with his privacy, family, home or correspondence, nor to attacks upon his honour and reputation. Everyone has the right to the protection of the law against such interference or attacks.\\n\\nArticle 13\\n\\nEveryone has the right to freedom of movement and residence within the borders of each State.\\n\\nEveryone has the right to leave any country, including his own, and to return to his country.\\n\\nArticle 14\\n\\nEveryone has the right to seek and to enjoy in other countries asylum from persecution.\\n\\nThis right may not be invoked in the case of prosecutions genuinely arising from non‐political crimes or from acts contrary to the purposes and principles of the United Nations.\\n\\nArticle 15\\n\\nEveryone has the right to a nationality.\\n\\nNo one shall be arbitrarily deprived of his nationality nor denied the right to change his nationality.\\n\\nArticle 16', metadata={'source': 'data/Universal Declaration of Human Right.txt'})]"
      ]
     },
     "execution_count": 98,
     "metadata": {},
     "output_type": "execute_result"
    }
   ],
   "source": [
    "# load from disk & query <-works\n",
    "index_name = \"long\"\n",
    "db3 = Chroma(persist_directory=\"./indexes/\" + index_name, embedding_function=GPT4AllEmbeddings())\n",
    "query = \"umoja\"\n",
    "docs = db3.similarity_search(query)\n",
    "docs"
   ]
  },
  {
   "cell_type": "code",
   "execution_count": 104,
   "id": "b174a8a5",
   "metadata": {},
   "outputs": [
    {
     "data": {
      "text/plain": [
       "[(Document(page_content='The Board recommended that the Administration develop a resident coordinator handbook to provide more guidance to resident coordinators ad interim in delivering the expected results.\\n\\nThe Board recommended that the Administration intensify efforts to expand the resident coordinator pool to include more viable\\n\\nAdministration’s response', metadata={'source': 'data_big/A:78:5 (Vol.I)2022.pdf'}),\n",
       "  0.6247134208679199),\n",
       " (Document(page_content='The Board recommended that the Administration develop a resident coordinator handbook to provide more guidance to resident coordinators ad interim in delivering the expected results.\\n\\nThe Board recommended that the Administration intensify efforts to expand the resident coordinator pool to include more viable\\n\\nAdministration’s response', metadata={'source': 'data_big/A:78:5 (Vol.I)2022.pdf'}),\n",
       "  0.6247134208679199),\n",
       " (Document(page_content='492. The Administration accepted the recommendation.\\n\\n(c) Concentrated geographical representation of resident coordinators and\\n\\nresident coordinator pool members\\n\\n493. The Board reviewed the geographical representation of the 113 resident coordinators in position as at 31 December 2022 and noted that the geographical representation of resident coordinators was concentrated within 13 countries, with 42 resident coordinators (37 per cent) from 8 countries in the Group of Western European and Other States.', metadata={'source': 'data_big/A:78:5 (Vol.I)2022.pdf'}),\n",
       "  0.643979012966156),\n",
       " (Document(page_content='492. The Administration accepted the recommendation.\\n\\n(c) Concentrated geographical representation of resident coordinators and\\n\\nresident coordinator pool members\\n\\n493. The Board reviewed the geographical representation of the 113 resident coordinators in position as at 31 December 2022 and noted that the geographical representation of resident coordinators was concentrated within 13 countries, with 42 resident coordinators (37 per cent) from 8 countries in the Group of Western European and Other States.', metadata={'source': 'data_big/A:78:5 (Vol.I)2022.pdf'}),\n",
       "  0.643979012966156)]"
      ]
     },
     "execution_count": 104,
     "metadata": {},
     "output_type": "execute_result"
    }
   ],
   "source": [
    "# search with score <--- works\n",
    "query = \"what is resident coordinator?\"\n",
    "\n",
    "docs = db2.similarity_search_with_score(query) #the score is the last value of the metadte for each doc \n",
    "#lower the score the more similar. \n",
    "\n",
    "docs\n",
    "#print(docs[0].page_content)\n",
    "#print(docs[0].metadata)\n",
    "#docs[0]\n",
    "\n",
    "#len(docs) #by default, the top 4 results are returned\n"
   ]
  },
  {
   "cell_type": "code",
   "execution_count": null,
   "id": "408f52f9",
   "metadata": {},
   "outputs": [],
   "source": [
    "# delete collection\n",
    "#print(\"Count:\", db2._collection.count())\n",
    "#db2.delete_collection()"
   ]
  },
  {
   "cell_type": "code",
   "execution_count": null,
   "id": "ddd2a7b1",
   "metadata": {},
   "outputs": [],
   "source": []
  }
 ],
 "metadata": {
  "kernelspec": {
   "display_name": "Python 3 (ipykernel)",
   "language": "python",
   "name": "python3"
  },
  "language_info": {
   "codemirror_mode": {
    "name": "ipython",
    "version": 3
   },
   "file_extension": ".py",
   "mimetype": "text/x-python",
   "name": "python",
   "nbconvert_exporter": "python",
   "pygments_lexer": "ipython3",
   "version": "3.11.5"
  }
 },
 "nbformat": 4,
 "nbformat_minor": 5
}
